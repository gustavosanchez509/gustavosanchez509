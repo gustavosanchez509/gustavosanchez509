{
  "nbformat": 4,
  "nbformat_minor": 0,
  "metadata": {
    "colab": {
      "name": "QuickStart.ipynb",
      "provenance": [],
      "toc_visible": true,
      "authorship_tag": "ABX9TyM3T2e+LR56sOELjy4bJxcL",
      "include_colab_link": true
    },
    "kernelspec": {
      "name": "python3",
      "display_name": "Python 3"
    },
    "language_info": {
      "name": "python"
    }
  },
  "cells": [
    {
      "cell_type": "markdown",
      "metadata": {
        "id": "view-in-github",
        "colab_type": "text"
      },
      "source": [
        "<a href=\"https://colab.research.google.com/github/gustavosanchez509/gustavosanchez509/blob/main/QuickStart.ipynb\" target=\"_parent\"><img src=\"https://colab.research.google.com/assets/colab-badge.svg\" alt=\"Open In Colab\"/></a>"
      ]
    },
    {
      "cell_type": "code",
      "execution_count": null,
      "metadata": {
        "id": "JqyJeKW6JRAj"
      },
      "outputs": [],
      "source": [
        ""
      ]
    },
    {
      "cell_type": "markdown",
      "source": [
        "# Quick Start Python\n",
        "*Primeros pasos....*"
      ],
      "metadata": {
        "id": "TEwo-aR2LCcJ"
      }
    },
    {
      "cell_type": "markdown",
      "source": [
        "## Mecanismos de entrada y salida\n",
        "\n",
        "*   Input()\n",
        "*   print()\n",
        "\n",
        "\n"
      ],
      "metadata": {
        "id": "L1OBVEgeLONh"
      }
    },
    {
      "cell_type": "code",
      "source": [
        "input(\"Ingrese nombre\")"
      ],
      "metadata": {
        "colab": {
          "base_uri": "https://localhost:8080/",
          "height": 53
        },
        "id": "wI1iwQpMLesB",
        "outputId": "1b38b640-e2e1-4129-80a4-649fc572e70b"
      },
      "execution_count": null,
      "outputs": [
        {
          "name": "stdout",
          "output_type": "stream",
          "text": [
            "Ingrese nombreGustavo\n"
          ]
        },
        {
          "output_type": "execute_result",
          "data": {
            "application/vnd.google.colaboratory.intrinsic+json": {
              "type": "string"
            },
            "text/plain": [
              "'Gustavo'"
            ]
          },
          "metadata": {},
          "execution_count": 2
        }
      ]
    },
    {
      "cell_type": "code",
      "source": [
        "#para que el nombre no se pierda, lo almacenamos en una variable\n",
        "x=input(\"Ingrese su nombre:\")\n",
        "print(\"Bienvenido \"+x)"
      ],
      "metadata": {
        "colab": {
          "base_uri": "https://localhost:8080/"
        },
        "id": "cLAfuJbEMAbQ",
        "outputId": "a20b6c7a-a667-4d10-fcc0-0cfc2c0b137e"
      },
      "execution_count": null,
      "outputs": [
        {
          "output_type": "stream",
          "name": "stdout",
          "text": [
            "Ingrese su nombre:Gustavo\n",
            "Bienvenido Gustavo\n"
          ]
        }
      ]
    },
    {
      "cell_type": "markdown",
      "source": [
        "## Aplicación\n",
        "\n",
        "Determinar el índice de masa corporal de una persona (IMC), dado el peso y la estatura, en base a la siguiente relación\n",
        "\n",
        "IMC=Peso/(Estatura)^2\n"
      ],
      "metadata": {
        "id": "3iVnQDA3OArv"
      }
    },
    {
      "cell_type": "code",
      "source": [
        "peso=input(\"Ingrese el peso en kg: \")\n",
        "peso=float(peso) # Convirtiendo un texto a número\n",
        "estatura=input(\"Ingrese la estatura cm: \")\n",
        "estatura=float(estatura) # Convirtiendo un texto a número\n",
        "IMC=(peso/(estatura/100)**2)\n",
        "IMC=str(IMC) #Convirtiendo número a texto\n",
        "print(\"El índice de masa corporal es:\" +IMC)"
      ],
      "metadata": {
        "colab": {
          "base_uri": "https://localhost:8080/"
        },
        "id": "Y4VJ-gRUOXWO",
        "outputId": "4242bf2b-d6b6-43a8-8f53-514d742b4c6f"
      },
      "execution_count": 8,
      "outputs": [
        {
          "output_type": "stream",
          "name": "stdout",
          "text": [
            "Ingrese el peso en kg: 75\n",
            "Ingrese la estatura cm: 164\n",
            "El índice de masa corporal es:27.885187388459254\n"
          ]
        }
      ]
    }
  ]
}